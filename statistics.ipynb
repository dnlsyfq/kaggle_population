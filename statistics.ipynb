{
 "cells": [
  {
   "cell_type": "code",
   "execution_count": 1,
   "id": "235f7c46",
   "metadata": {
    "_cell_guid": "b1076dfc-b9ad-4769-8c92-a6c4dae69d19",
    "_uuid": "8f2839f25d086af736a60e9eeb907d3b93b6e0e5",
    "execution": {
     "iopub.execute_input": "2024-03-31T06:50:54.167152Z",
     "iopub.status.busy": "2024-03-31T06:50:54.166440Z",
     "iopub.status.idle": "2024-03-31T06:50:55.223189Z",
     "shell.execute_reply": "2024-03-31T06:50:55.222016Z"
    },
    "papermill": {
     "duration": 1.064765,
     "end_time": "2024-03-31T06:50:55.225649",
     "exception": false,
     "start_time": "2024-03-31T06:50:54.160884",
     "status": "completed"
    },
    "tags": []
   },
   "outputs": [
    {
     "name": "stdout",
     "output_type": "stream",
     "text": [
      "/kaggle/input/population-estimates-usa-department-of-agriculture/PopulationEstimates.xlsx\n"
     ]
    }
   ],
   "source": [
    "import numpy as np # linear algebra\n",
    "import pandas as pd # data processing, CSV file I/O (e.g. pd.read_csv)\n",
    "\n",
    "\n",
    "import os\n",
    "for dirname, _, filenames in os.walk('/kaggle/input'):\n",
    "    for filename in filenames:\n",
    "        print(os.path.join(dirname, filename))\n"
   ]
  },
  {
   "cell_type": "code",
   "execution_count": 2,
   "id": "aa538364",
   "metadata": {
    "execution": {
     "iopub.execute_input": "2024-03-31T06:50:55.232791Z",
     "iopub.status.busy": "2024-03-31T06:50:55.232022Z",
     "iopub.status.idle": "2024-03-31T06:50:59.626843Z",
     "shell.execute_reply": "2024-03-31T06:50:59.625690Z"
    },
    "papermill": {
     "duration": 4.40127,
     "end_time": "2024-03-31T06:50:59.629533",
     "exception": false,
     "start_time": "2024-03-31T06:50:55.228263",
     "status": "completed"
    },
    "tags": []
   },
   "outputs": [
    {
     "data": {
      "text/html": [
       "<div>\n",
       "<style scoped>\n",
       "    .dataframe tbody tr th:only-of-type {\n",
       "        vertical-align: middle;\n",
       "    }\n",
       "\n",
       "    .dataframe tbody tr th {\n",
       "        vertical-align: top;\n",
       "    }\n",
       "\n",
       "    .dataframe thead th {\n",
       "        text-align: right;\n",
       "    }\n",
       "</style>\n",
       "<table border=\"1\" class=\"dataframe\">\n",
       "  <thead>\n",
       "    <tr style=\"text-align: right;\">\n",
       "      <th></th>\n",
       "      <th>Area_Name</th>\n",
       "      <th>POP_ESTIMATE_2020</th>\n",
       "      <th>POP_ESTIMATE_2021</th>\n",
       "      <th>POP_ESTIMATE_2022</th>\n",
       "      <th>N_POP_CHG_2020</th>\n",
       "      <th>N_POP_CHG_2021</th>\n",
       "      <th>N_POP_CHG_2022</th>\n",
       "      <th>BIRTHS_2020</th>\n",
       "      <th>BIRTHS_2021</th>\n",
       "      <th>BIRTHS_2022</th>\n",
       "      <th>DEATHS_2020</th>\n",
       "      <th>DEATHS_2021</th>\n",
       "      <th>DEATHS_2022</th>\n",
       "    </tr>\n",
       "  </thead>\n",
       "  <tbody>\n",
       "    <tr>\n",
       "      <th>0</th>\n",
       "      <td>United States</td>\n",
       "      <td>331511512.0</td>\n",
       "      <td>332031554.0</td>\n",
       "      <td>333287557.0</td>\n",
       "      <td>61992.0</td>\n",
       "      <td>520042.0</td>\n",
       "      <td>1256003.0</td>\n",
       "      <td>894123.0</td>\n",
       "      <td>3582436.0</td>\n",
       "      <td>3688179.0</td>\n",
       "      <td>852024.0</td>\n",
       "      <td>3438423.0</td>\n",
       "      <td>3443099.0</td>\n",
       "    </tr>\n",
       "    <tr>\n",
       "      <th>1</th>\n",
       "      <td>Alabama</td>\n",
       "      <td>5031362.0</td>\n",
       "      <td>5049846.0</td>\n",
       "      <td>5074296.0</td>\n",
       "      <td>7006.0</td>\n",
       "      <td>18484.0</td>\n",
       "      <td>24450.0</td>\n",
       "      <td>13867.0</td>\n",
       "      <td>57112.0</td>\n",
       "      <td>58280.0</td>\n",
       "      <td>15165.0</td>\n",
       "      <td>69056.0</td>\n",
       "      <td>66870.0</td>\n",
       "    </tr>\n",
       "    <tr>\n",
       "      <th>2</th>\n",
       "      <td>Autauga County</td>\n",
       "      <td>58902.0</td>\n",
       "      <td>59210.0</td>\n",
       "      <td>59759.0</td>\n",
       "      <td>100.0</td>\n",
       "      <td>308.0</td>\n",
       "      <td>549.0</td>\n",
       "      <td>162.0</td>\n",
       "      <td>694.0</td>\n",
       "      <td>709.0</td>\n",
       "      <td>177.0</td>\n",
       "      <td>682.0</td>\n",
       "      <td>673.0</td>\n",
       "    </tr>\n",
       "    <tr>\n",
       "      <th>3</th>\n",
       "      <td>Baldwin County</td>\n",
       "      <td>233219.0</td>\n",
       "      <td>239361.0</td>\n",
       "      <td>246435.0</td>\n",
       "      <td>1458.0</td>\n",
       "      <td>6142.0</td>\n",
       "      <td>7074.0</td>\n",
       "      <td>560.0</td>\n",
       "      <td>2367.0</td>\n",
       "      <td>2411.0</td>\n",
       "      <td>593.0</td>\n",
       "      <td>3044.0</td>\n",
       "      <td>2909.0</td>\n",
       "    </tr>\n",
       "    <tr>\n",
       "      <th>4</th>\n",
       "      <td>Barbour County</td>\n",
       "      <td>24960.0</td>\n",
       "      <td>24539.0</td>\n",
       "      <td>24706.0</td>\n",
       "      <td>-264.0</td>\n",
       "      <td>-421.0</td>\n",
       "      <td>167.0</td>\n",
       "      <td>60.0</td>\n",
       "      <td>276.0</td>\n",
       "      <td>277.0</td>\n",
       "      <td>93.0</td>\n",
       "      <td>383.0</td>\n",
       "      <td>372.0</td>\n",
       "    </tr>\n",
       "  </tbody>\n",
       "</table>\n",
       "</div>"
      ],
      "text/plain": [
       "        Area_Name  POP_ESTIMATE_2020  POP_ESTIMATE_2021  POP_ESTIMATE_2022  \\\n",
       "0   United States        331511512.0        332031554.0        333287557.0   \n",
       "1         Alabama          5031362.0          5049846.0          5074296.0   \n",
       "2  Autauga County            58902.0            59210.0            59759.0   \n",
       "3  Baldwin County           233219.0           239361.0           246435.0   \n",
       "4  Barbour County            24960.0            24539.0            24706.0   \n",
       "\n",
       "   N_POP_CHG_2020  N_POP_CHG_2021  N_POP_CHG_2022  BIRTHS_2020  BIRTHS_2021  \\\n",
       "0         61992.0        520042.0       1256003.0     894123.0    3582436.0   \n",
       "1          7006.0         18484.0         24450.0      13867.0      57112.0   \n",
       "2           100.0           308.0           549.0        162.0        694.0   \n",
       "3          1458.0          6142.0          7074.0        560.0       2367.0   \n",
       "4          -264.0          -421.0           167.0         60.0        276.0   \n",
       "\n",
       "   BIRTHS_2022  DEATHS_2020  DEATHS_2021  DEATHS_2022  \n",
       "0    3688179.0     852024.0    3438423.0    3443099.0  \n",
       "1      58280.0      15165.0      69056.0      66870.0  \n",
       "2        709.0        177.0        682.0        673.0  \n",
       "3       2411.0        593.0       3044.0       2909.0  \n",
       "4        277.0         93.0        383.0        372.0  "
      ]
     },
     "execution_count": 2,
     "metadata": {},
     "output_type": "execute_result"
    }
   ],
   "source": [
    "df = pd.read_excel('/kaggle/input/population-estimates-usa-department-of-agriculture/PopulationEstimates.xlsx',skiprows=4,\n",
    "                   usecols=['Area_Name','POP_ESTIMATE_2020', 'POP_ESTIMATE_2021','POP_ESTIMATE_2022',\n",
    "                            'N_POP_CHG_2020', 'N_POP_CHG_2021','N_POP_CHG_2022', \n",
    "                            'BIRTHS_2020', 'BIRTHS_2021', 'BIRTHS_2022',\n",
    "                            'DEATHS_2020', 'DEATHS_2021', 'DEATHS_2022']\n",
    "                  )\n",
    "df.head()"
   ]
  },
  {
   "cell_type": "code",
   "execution_count": null,
   "id": "826edc03",
   "metadata": {
    "papermill": {
     "duration": 0.002529,
     "end_time": "2024-03-31T06:50:59.635077",
     "exception": false,
     "start_time": "2024-03-31T06:50:59.632548",
     "status": "completed"
    },
    "tags": []
   },
   "outputs": [],
   "source": []
  }
 ],
 "metadata": {
  "kaggle": {
   "accelerator": "none",
   "dataSources": [
    {
     "datasetId": 4701545,
     "sourceId": 7986985,
     "sourceType": "datasetVersion"
    }
   ],
   "dockerImageVersionId": 30673,
   "isGpuEnabled": false,
   "isInternetEnabled": true,
   "language": "python",
   "sourceType": "notebook"
  },
  "kernelspec": {
   "display_name": "Python 3",
   "language": "python",
   "name": "python3"
  },
  "language_info": {
   "codemirror_mode": {
    "name": "ipython",
    "version": 3
   },
   "file_extension": ".py",
   "mimetype": "text/x-python",
   "name": "python",
   "nbconvert_exporter": "python",
   "pygments_lexer": "ipython3",
   "version": "3.10.13"
  },
  "papermill": {
   "default_parameters": {},
   "duration": 9.057911,
   "end_time": "2024-03-31T06:51:00.159044",
   "environment_variables": {},
   "exception": null,
   "input_path": "__notebook__.ipynb",
   "output_path": "__notebook__.ipynb",
   "parameters": {},
   "start_time": "2024-03-31T06:50:51.101133",
   "version": "2.5.0"
  }
 },
 "nbformat": 4,
 "nbformat_minor": 5
}
